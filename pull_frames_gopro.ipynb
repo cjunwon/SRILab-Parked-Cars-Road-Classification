{
 "cells": [
  {
   "cell_type": "code",
   "execution_count": 1,
   "metadata": {},
   "outputs": [],
   "source": [
    "import pandas as pd\n",
    "import cv2"
   ]
  },
  {
   "cell_type": "code",
   "execution_count": 2,
   "metadata": {},
   "outputs": [],
   "source": [
    "# Function to import mp4 video and convert to frames, then save to folder, store list of image names and timestamps in csv\n",
    "\n",
    "def video_to_frames(video_path, frames_path, csv_path):\n",
    "\n",
    "    # Create dataframe to store image names and timestamps\n",
    "    df = pd.DataFrame(columns=['image_name', 'timestamp'])\n",
    "\n",
    "    # Create VideoCapture object\n",
    "    cap = cv2.VideoCapture(video_path)\n",
    "\n",
    "    # Check if video opened successfully\n",
    "    if (cap.isOpened() == False):\n",
    "        print(\"Error opening video stream or file\")\n",
    "\n",
    "    # Read until video is completed\n",
    "    count = 0\n",
    "    while(cap.isOpened()):\n",
    "\n",
    "        # Capture frame-by-frame\n",
    "        ret, frame = cap.read()\n",
    "\n",
    "        if ret == True:\n",
    "\n",
    "            # Skip every 4 frames\n",
    "            if count % 4 == 0:\n",
    "                # Save original color frame to folder\n",
    "                cv2.imwrite(frames_path + 'frame' + str(cap.get(cv2.CAP_PROP_POS_FRAMES)) + '.jpg', frame)\n",
    "\n",
    "                # Add image name and timestamp to dataframe\n",
    "                new_row = pd.DataFrame({'image_name': ['frame' + str(cap.get(cv2.CAP_PROP_POS_FRAMES)) + '.jpg'], 'timestamp': [cap.get(cv2.CAP_PROP_POS_MSEC)]})\n",
    "                df = pd.concat([df, new_row], ignore_index=True)\n",
    "            count += 1\n",
    "\n",
    "        # Break the loop when video is completed\n",
    "        else:\n",
    "            break\n",
    "\n",
    "    # When everything done, release the video capture object\n",
    "    cap.release()\n",
    "\n",
    "    # Save dataframe to csv\n",
    "    df.to_csv(csv_path, index=False)"
   ]
  },
  {
   "cell_type": "code",
   "execution_count": 4,
   "metadata": {},
   "outputs": [],
   "source": [
    "video_to_frames('/Volumes/JC SSD/SRILab Data/GX010100.MP4', '/Volumes/JC SSD/SRILab Data/GoPro Frames/', 'data/frames.csv')"
   ]
  }
 ],
 "metadata": {
  "kernelspec": {
   "display_name": "parked_cars_road_classification-ovyX0Fkz",
   "language": "python",
   "name": "python3"
  },
  "language_info": {
   "codemirror_mode": {
    "name": "ipython",
    "version": 3
   },
   "file_extension": ".py",
   "mimetype": "text/x-python",
   "name": "python",
   "nbconvert_exporter": "python",
   "pygments_lexer": "ipython3",
   "version": "3.10.2"
  },
  "orig_nbformat": 4
 },
 "nbformat": 4,
 "nbformat_minor": 2
}
