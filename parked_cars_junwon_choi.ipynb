{
 "cells": [
  {
   "cell_type": "code",
   "execution_count": 1,
   "metadata": {},
   "outputs": [],
   "source": [
    "import pandas as pd\n",
    "import numpy as np\n",
    "import cv2\n",
    "import open3d as o3d\n",
    "from plyfile import PlyData, PlyElement"
   ]
  },
  {
   "cell_type": "code",
   "execution_count": 2,
   "metadata": {},
   "outputs": [
    {
     "name": "stdout",
     "output_type": "stream",
     "text": [
      "(PlyElement('vertex', (PlyProperty('x', 'float'), PlyProperty('y', 'float'), PlyProperty('z', 'float'), PlyProperty('scalar_image_identifier', 'int'), PlyProperty('scalar_time', 'double'), PlyProperty('scalar_roll', 'float'), PlyProperty('scalar_pitch', 'float'), PlyProperty('scalar_yaw', 'float'), PlyProperty('scalar_confidence', 'float')), count=1007, comments=[]),)\n"
     ]
    }
   ],
   "source": [
    "# Read in image position data\n",
    "with open('data/maps/image_poses.ply', 'rb') as f:\n",
    "    plydata = PlyData.read(f)\n",
    "\n",
    "print(plydata.elements)"
   ]
  },
  {
   "cell_type": "code",
   "execution_count": 6,
   "metadata": {},
   "outputs": [
    {
     "name": "stdout",
     "output_type": "stream",
     "text": [
      "1007\n"
     ]
    },
    {
     "data": {
      "text/html": [
       "<div>\n",
       "<style scoped>\n",
       "    .dataframe tbody tr th:only-of-type {\n",
       "        vertical-align: middle;\n",
       "    }\n",
       "\n",
       "    .dataframe tbody tr th {\n",
       "        vertical-align: top;\n",
       "    }\n",
       "\n",
       "    .dataframe thead th {\n",
       "        text-align: right;\n",
       "    }\n",
       "</style>\n",
       "<table border=\"1\" class=\"dataframe\">\n",
       "  <thead>\n",
       "    <tr style=\"text-align: right;\">\n",
       "      <th></th>\n",
       "      <th>x</th>\n",
       "      <th>y</th>\n",
       "      <th>z</th>\n",
       "      <th>scalar_image_identifier</th>\n",
       "      <th>scalar_time</th>\n",
       "      <th>scalar_roll</th>\n",
       "      <th>scalar_pitch</th>\n",
       "      <th>scalar_yaw</th>\n",
       "      <th>scalar_confidence</th>\n",
       "    </tr>\n",
       "  </thead>\n",
       "  <tbody>\n",
       "    <tr>\n",
       "      <th>0</th>\n",
       "      <td>0.008326</td>\n",
       "      <td>0.002601</td>\n",
       "      <td>0.002250</td>\n",
       "      <td>1</td>\n",
       "      <td>5.925832</td>\n",
       "      <td>0.110001</td>\n",
       "      <td>0.165191</td>\n",
       "      <td>0.000277</td>\n",
       "      <td>375240.65625</td>\n",
       "    </tr>\n",
       "    <tr>\n",
       "      <th>1</th>\n",
       "      <td>0.013624</td>\n",
       "      <td>0.011296</td>\n",
       "      <td>0.005206</td>\n",
       "      <td>2</td>\n",
       "      <td>7.425827</td>\n",
       "      <td>0.110000</td>\n",
       "      <td>0.165135</td>\n",
       "      <td>0.000398</td>\n",
       "      <td>419688.18750</td>\n",
       "    </tr>\n",
       "    <tr>\n",
       "      <th>2</th>\n",
       "      <td>0.019117</td>\n",
       "      <td>0.014602</td>\n",
       "      <td>0.006244</td>\n",
       "      <td>3</td>\n",
       "      <td>8.425823</td>\n",
       "      <td>0.109964</td>\n",
       "      <td>0.165150</td>\n",
       "      <td>0.000494</td>\n",
       "      <td>441757.87500</td>\n",
       "    </tr>\n",
       "    <tr>\n",
       "      <th>3</th>\n",
       "      <td>0.018069</td>\n",
       "      <td>0.015843</td>\n",
       "      <td>0.006658</td>\n",
       "      <td>4</td>\n",
       "      <td>9.425818</td>\n",
       "      <td>0.109810</td>\n",
       "      <td>0.165114</td>\n",
       "      <td>0.000559</td>\n",
       "      <td>472025.50000</td>\n",
       "    </tr>\n",
       "    <tr>\n",
       "      <th>4</th>\n",
       "      <td>0.023864</td>\n",
       "      <td>0.019839</td>\n",
       "      <td>0.006304</td>\n",
       "      <td>5</td>\n",
       "      <td>10.425815</td>\n",
       "      <td>0.110004</td>\n",
       "      <td>0.165117</td>\n",
       "      <td>0.000588</td>\n",
       "      <td>441257.71875</td>\n",
       "    </tr>\n",
       "  </tbody>\n",
       "</table>\n",
       "</div>"
      ],
      "text/plain": [
       "          x         y         z  scalar_image_identifier  scalar_time   \n",
       "0  0.008326  0.002601  0.002250                        1     5.925832  \\\n",
       "1  0.013624  0.011296  0.005206                        2     7.425827   \n",
       "2  0.019117  0.014602  0.006244                        3     8.425823   \n",
       "3  0.018069  0.015843  0.006658                        4     9.425818   \n",
       "4  0.023864  0.019839  0.006304                        5    10.425815   \n",
       "\n",
       "   scalar_roll  scalar_pitch  scalar_yaw  scalar_confidence  \n",
       "0     0.110001      0.165191    0.000277       375240.65625  \n",
       "1     0.110000      0.165135    0.000398       419688.18750  \n",
       "2     0.109964      0.165150    0.000494       441757.87500  \n",
       "3     0.109810      0.165114    0.000559       472025.50000  \n",
       "4     0.110004      0.165117    0.000588       441257.71875  "
      ]
     },
     "execution_count": 6,
     "metadata": {},
     "output_type": "execute_result"
    }
   ],
   "source": [
    "# Extract vertex data\n",
    "vertices = plydata['vertex']\n",
    "vertex_data = pd.DataFrame(vertices.data)\n",
    "\n",
    "print(len(vertex_data))\n",
    "vertex_data.head()"
   ]
  }
 ],
 "metadata": {
  "kernelspec": {
   "display_name": "venv",
   "language": "python",
   "name": "python3"
  },
  "language_info": {
   "codemirror_mode": {
    "name": "ipython",
    "version": 3
   },
   "file_extension": ".py",
   "mimetype": "text/x-python",
   "name": "python",
   "nbconvert_exporter": "python",
   "pygments_lexer": "ipython3",
   "version": "3.9.7"
  },
  "orig_nbformat": 4
 },
 "nbformat": 4,
 "nbformat_minor": 2
}
