{
 "cells": [
  {
   "cell_type": "code",
   "execution_count": 17,
   "outputs": [],
   "source": [
    "import pandas as pd\n",
    "import cv2"
   ],
   "metadata": {
    "collapsed": false
   }
  },
  {
   "cell_type": "code",
   "execution_count": 22,
   "outputs": [],
   "source": [
    "# Function to import mp4 video and convert to frames, then save to folder, store list of image names and timestamps in csv\n",
    "count = 1\n",
    "def video_to_frames(video_path, frames_path, csv_path):\n",
    "    global count\n",
    "    # Create dataframe to store image names and timestamps\n",
    "    df = pd.DataFrame(columns=['image_name', 'timestamp'])\n",
    "    rows = []\n",
    "\n",
    "    # Create VideoCapture object\n",
    "    cap = cv2.VideoCapture(video_path)\n",
    "\n",
    "    # Check if video opened successfully\n",
    "    if not cap.isOpened():\n",
    "        print(\"Error opening video stream or file\")\n",
    "        return\n",
    "\n",
    "    # Read until video is completed\n",
    "    for idx, frame_num in enumerate(range(0, int(cap.get(cv2.CAP_PROP_FRAME_COUNT)), 4)):\n",
    "        # Set frame position\n",
    "        cap.set(cv2.CAP_PROP_POS_FRAMES, frame_num)\n",
    "\n",
    "        # Capture frame-by-frame\n",
    "        ret, frame = cap.read()\n",
    "\n",
    "        if ret:\n",
    "            # Crop the bottom 20% of the frame\n",
    "            height, width, _ = frame.shape\n",
    "            crop_width = int(width * 0.25)  # Width to be cropped on both sides\n",
    "            cropped_frame = frame[int(height * 0.5):int(height * 0.8), crop_width:-crop_width]\n",
    "\n",
    "\n",
    "\n",
    "\n",
    "            # Save cropped frame to folder\n",
    "            image_name = f'frame{count}.jpg'\n",
    "            cv2.imwrite(frames_path + image_name, cropped_frame)\n",
    "            count += 1\n",
    "\n",
    "            # Add image name and timestamp to list\n",
    "            timestamp = cap.get(cv2.CAP_PROP_POS_MSEC)\n",
    "            rows.append({'image_name': image_name, 'timestamp': timestamp})\n",
    "\n",
    "    # Release the video capture object\n",
    "    cap.release()\n",
    "\n",
    "    # Convert list of rows to DataFrame\n",
    "    df = pd.DataFrame(rows)\n",
    "\n",
    "    # Save dataframe to csv\n",
    "    df.to_csv(csv_path, index=False)"
   ],
   "metadata": {
    "collapsed": false
   }
  },
  {
   "cell_type": "code",
   "execution_count": 26,
   "outputs": [],
   "source": [
    "video_to_frames(video_path='../data/GoPro Video/unpaved.mp4', frames_path='../data/data_frames/', csv_path='../data/frames.csv')"
   ],
   "metadata": {
    "collapsed": false
   }
  },
  {
   "cell_type": "code",
   "execution_count": 27,
   "outputs": [
    {
     "name": "stderr",
     "output_type": "stream",
     "text": [
      "\n",
      "[notice] A new release of pip is available: 23.1 -> 23.1.2\n",
      "[notice] To update, run: python.exe -m pip install --upgrade pip\n"
     ]
    },
    {
     "name": "stdout",
     "output_type": "stream",
     "text": [
      "Collecting roboflow\n",
      "  Downloading roboflow-1.0.9-py3-none-any.whl (56 kB)\n",
      "                                              0.0/56.3 kB ? eta -:--:--\n",
      "     ---------------------------------------- 56.3/56.3 kB 3.1 MB/s eta 0:00:00\n",
      "Requirement already satisfied: certifi==2022.12.7 in c:\\users\\michaelsong\\.virtualenvs\\srilab-parked-cars-road-classification-xxtn4dk2\\lib\\site-packages (from roboflow) (2022.12.7)\n",
      "Collecting chardet==4.0.0 (from roboflow)\n",
      "  Downloading chardet-4.0.0-py2.py3-none-any.whl (178 kB)\n",
      "                                              0.0/178.7 kB ? eta -:--:--\n",
      "     -------------------------------------- 178.7/178.7 kB 5.4 MB/s eta 0:00:00\n",
      "Collecting cycler==0.10.0 (from roboflow)\n",
      "  Downloading cycler-0.10.0-py2.py3-none-any.whl (6.5 kB)\n",
      "Collecting idna==2.10 (from roboflow)\n",
      "  Downloading idna-2.10-py2.py3-none-any.whl (58 kB)\n",
      "                                              0.0/58.8 kB ? eta -:--:--\n",
      "     ---------------------------------------- 58.8/58.8 kB 3.2 MB/s eta 0:00:00\n",
      "Requirement already satisfied: kiwisolver>=1.3.1 in c:\\users\\michaelsong\\.virtualenvs\\srilab-parked-cars-road-classification-xxtn4dk2\\lib\\site-packages (from roboflow) (1.4.4)\n",
      "Requirement already satisfied: matplotlib in c:\\users\\michaelsong\\.virtualenvs\\srilab-parked-cars-road-classification-xxtn4dk2\\lib\\site-packages (from roboflow) (3.7.1)\n",
      "Requirement already satisfied: numpy>=1.18.5 in c:\\users\\michaelsong\\.virtualenvs\\srilab-parked-cars-road-classification-xxtn4dk2\\lib\\site-packages (from roboflow) (1.23.5)\n",
      "Requirement already satisfied: opencv-python>=4.1.2 in c:\\users\\michaelsong\\.virtualenvs\\srilab-parked-cars-road-classification-xxtn4dk2\\lib\\site-packages (from roboflow) (4.7.0.72)\n",
      "Requirement already satisfied: Pillow>=7.1.2 in c:\\users\\michaelsong\\.virtualenvs\\srilab-parked-cars-road-classification-xxtn4dk2\\lib\\site-packages (from roboflow) (9.5.0)\n",
      "Collecting pyparsing==2.4.7 (from roboflow)\n",
      "  Downloading pyparsing-2.4.7-py2.py3-none-any.whl (67 kB)\n",
      "                                              0.0/67.8 kB ? eta -:--:--\n",
      "     ---------------------------------------- 67.8/67.8 kB ? eta 0:00:00\n",
      "Requirement already satisfied: python-dateutil in c:\\users\\michaelsong\\.virtualenvs\\srilab-parked-cars-road-classification-xxtn4dk2\\lib\\site-packages (from roboflow) (2.8.2)\n",
      "Collecting python-dotenv (from roboflow)\n",
      "  Downloading python_dotenv-1.0.0-py3-none-any.whl (19 kB)\n",
      "Requirement already satisfied: requests in c:\\users\\michaelsong\\.virtualenvs\\srilab-parked-cars-road-classification-xxtn4dk2\\lib\\site-packages (from roboflow) (2.31.0)\n",
      "Requirement already satisfied: six in c:\\users\\michaelsong\\.virtualenvs\\srilab-parked-cars-road-classification-xxtn4dk2\\lib\\site-packages (from roboflow) (1.16.0)\n",
      "Requirement already satisfied: urllib3>=1.26.6 in c:\\users\\michaelsong\\.virtualenvs\\srilab-parked-cars-road-classification-xxtn4dk2\\lib\\site-packages (from roboflow) (2.0.2)\n",
      "Collecting wget (from roboflow)\n",
      "  Downloading wget-3.2.zip (10 kB)\n",
      "  Preparing metadata (setup.py): started\n",
      "  Preparing metadata (setup.py): finished with status 'done'\n",
      "Requirement already satisfied: tqdm>=4.41.0 in c:\\users\\michaelsong\\.virtualenvs\\srilab-parked-cars-road-classification-xxtn4dk2\\lib\\site-packages (from roboflow) (4.65.0)\n",
      "Requirement already satisfied: PyYAML>=5.3.1 in c:\\users\\michaelsong\\.virtualenvs\\srilab-parked-cars-road-classification-xxtn4dk2\\lib\\site-packages (from roboflow) (6.0)\n",
      "Collecting requests-toolbelt (from roboflow)\n",
      "  Downloading requests_toolbelt-1.0.0-py2.py3-none-any.whl (54 kB)\n",
      "                                              0.0/54.5 kB ? eta -:--:--\n",
      "     ---------------------------------------- 54.5/54.5 kB 2.9 MB/s eta 0:00:00\n",
      "Requirement already satisfied: colorama in c:\\users\\michaelsong\\.virtualenvs\\srilab-parked-cars-road-classification-xxtn4dk2\\lib\\site-packages (from tqdm>=4.41.0->roboflow) (0.4.6)\n",
      "Requirement already satisfied: contourpy>=1.0.1 in c:\\users\\michaelsong\\.virtualenvs\\srilab-parked-cars-road-classification-xxtn4dk2\\lib\\site-packages (from matplotlib->roboflow) (1.0.7)\n",
      "Requirement already satisfied: fonttools>=4.22.0 in c:\\users\\michaelsong\\.virtualenvs\\srilab-parked-cars-road-classification-xxtn4dk2\\lib\\site-packages (from matplotlib->roboflow) (4.39.3)\n",
      "Requirement already satisfied: packaging>=20.0 in c:\\users\\michaelsong\\.virtualenvs\\srilab-parked-cars-road-classification-xxtn4dk2\\lib\\site-packages (from matplotlib->roboflow) (23.1)\n",
      "Requirement already satisfied: charset-normalizer<4,>=2 in c:\\users\\michaelsong\\.virtualenvs\\srilab-parked-cars-road-classification-xxtn4dk2\\lib\\site-packages (from requests->roboflow) (3.1.0)\n",
      "Building wheels for collected packages: wget\n",
      "  Building wheel for wget (setup.py): started\n",
      "  Building wheel for wget (setup.py): finished with status 'done'\n",
      "  Created wheel for wget: filename=wget-3.2-py3-none-any.whl size=9681 sha256=64de81f5ca76f64b5c3e6dcaa02eb77f3003a7de65d42f1b928edc23885ed174\n",
      "  Stored in directory: c:\\users\\michaelsong\\appdata\\local\\pip\\cache\\wheels\\8b\\f1\\7f\\5c94f0a7a505ca1c81cd1d9208ae2064675d97582078e6c769\n",
      "Successfully built wget\n",
      "Installing collected packages: wget, python-dotenv, pyparsing, idna, cycler, chardet, requests-toolbelt, roboflow\n",
      "  Attempting uninstall: pyparsing\n",
      "    Found existing installation: pyparsing 3.0.9\n",
      "    Uninstalling pyparsing-3.0.9:\n",
      "      Successfully uninstalled pyparsing-3.0.9\n",
      "  Attempting uninstall: idna\n",
      "    Found existing installation: idna 3.4\n",
      "    Uninstalling idna-3.4:\n",
      "      Successfully uninstalled idna-3.4\n",
      "  Attempting uninstall: cycler\n",
      "    Found existing installation: cycler 0.11.0\n",
      "    Uninstalling cycler-0.11.0:\n",
      "      Successfully uninstalled cycler-0.11.0\n",
      "Successfully installed chardet-4.0.0 cycler-0.10.0 idna-2.10 pyparsing-2.4.7 python-dotenv-1.0.0 requests-toolbelt-1.0.0 roboflow-1.0.9 wget-3.2\n",
      "loading Roboflow workspace...\n",
      "loading Roboflow project...\n",
      "Downloading Dataset Version Zip in Road-Surface-Classification-1 to folder: 42% [24567808 / 57476405] bytes"
     ]
    },
    {
     "name": "stderr",
     "output_type": "stream",
     "text": [
      "IOPub message rate exceeded.\n",
      "The notebook server will temporarily stop sending output\n",
      "to the client in order to avoid crashing it.\n",
      "To change this limit, set the config variable\n",
      "`--NotebookApp.iopub_msg_rate_limit`.\n",
      "\n",
      "Current values:\n",
      "NotebookApp.iopub_msg_rate_limit=1000.0 (msgs/sec)\n",
      "NotebookApp.rate_limit_window=3.0 (secs)\n",
      "\n"
     ]
    },
    {
     "name": "stdout",
     "output_type": "stream",
     "text": [
      "Downloading Dataset Version Zip in Road-Surface-Classification-1 to folder: 100% [57476405 / 57476405] bytes\n"
     ]
    },
    {
     "name": "stderr",
     "output_type": "stream",
     "text": [
      "Extracting Dataset Version Zip to Road-Surface-Classification-1 in folder:: 100%|██████████| 1677/1677 [00:00<00:00, 2294.71it/s]\n"
     ]
    }
   ],
   "source": [
    "!pip install roboflow\n",
    "\n",
    "from roboflow import Roboflow\n",
    "rf = Roboflow(api_key=\"X6ezSSOXHuzCdkLgRWYG\")\n",
    "project = rf.workspace(\"sri-lab\").project(\"road-surface-classification-lgxl1\")\n",
    "dataset = project.version(1).download(\"folder\")\n"
   ],
   "metadata": {
    "collapsed": false
   }
  },
  {
   "cell_type": "code",
   "execution_count": 28,
   "outputs": [
    {
     "name": "stdout",
     "output_type": "stream",
     "text": [
      "<roboflow.core.dataset.Dataset object at 0x0000022B31555FF0>\n"
     ]
    }
   ],
   "source": [
    "print(dataset)"
   ],
   "metadata": {
    "collapsed": false
   }
  },
  {
   "cell_type": "code",
   "execution_count": null,
   "outputs": [],
   "source": [],
   "metadata": {
    "collapsed": false
   }
  }
 ],
 "metadata": {
  "kernelspec": {
   "display_name": "Python 3",
   "language": "python",
   "name": "python3"
  },
  "language_info": {
   "codemirror_mode": {
    "name": "ipython",
    "version": 2
   },
   "file_extension": ".py",
   "mimetype": "text/x-python",
   "name": "python",
   "nbconvert_exporter": "python",
   "pygments_lexer": "ipython2",
   "version": "2.7.6"
  }
 },
 "nbformat": 4,
 "nbformat_minor": 0
}
